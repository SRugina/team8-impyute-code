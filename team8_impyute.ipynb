{
  "nbformat": 4,
  "nbformat_minor": 0,
  "metadata": {
    "colab": {
      "name": "team8-impyute",
      "provenance": [],
      "collapsed_sections": []
    },
    "kernelspec": {
      "name": "python3",
      "display_name": "Python 3"
    },
    "accelerator": "GPU"
  },
  "cells": [
    {
      "cell_type": "markdown",
      "metadata": {
        "id": "d93ldn-kaoP7",
        "colab_type": "text"
      },
      "source": [
        "# Formatting the Data + Analysis"
      ]
    },
    {
      "cell_type": "code",
      "metadata": {
        "id": "y0IYwAEYmQjG",
        "colab_type": "code",
        "colab": {}
      },
      "source": [
        "import numpy as np \n",
        "import pandas as pd\n",
        "import matplotlib.pyplot as plt\n",
        "import math"
      ],
      "execution_count": 0,
      "outputs": []
    },
    {
      "cell_type": "code",
      "metadata": {
        "id": "henh8izmmUtU",
        "colab_type": "code",
        "colab": {}
      },
      "source": [
        "data_source_url = \"https://raw.githubusercontent.com/SRugina/team8-impyute-code/master/Meteorite_Landings.csv\"\n",
        "meteor_landings = pd.read_csv(data_source_url)\n",
        "# prepare the imputed variable\n",
        "meteor_landings_imputed = pd.read_csv(data_source_url)"
      ],
      "execution_count": 0,
      "outputs": []
    },
    {
      "cell_type": "code",
      "metadata": {
        "id": "mMSNLKnonIWH",
        "colab_type": "code",
        "outputId": "53e2dba8-7c47-4b5c-ab0b-2397e330f55f",
        "colab": {
          "base_uri": "https://localhost:8080/",
          "height": 380
        }
      },
      "source": [
        "meteor_landings.head()"
      ],
      "execution_count": 404,
      "outputs": [
        {
          "output_type": "execute_result",
          "data": {
            "text/html": [
              "<div>\n",
              "<style scoped>\n",
              "    .dataframe tbody tr th:only-of-type {\n",
              "        vertical-align: middle;\n",
              "    }\n",
              "\n",
              "    .dataframe tbody tr th {\n",
              "        vertical-align: top;\n",
              "    }\n",
              "\n",
              "    .dataframe thead th {\n",
              "        text-align: right;\n",
              "    }\n",
              "</style>\n",
              "<table border=\"1\" class=\"dataframe\">\n",
              "  <thead>\n",
              "    <tr style=\"text-align: right;\">\n",
              "      <th></th>\n",
              "      <th>name</th>\n",
              "      <th>id</th>\n",
              "      <th>nametype</th>\n",
              "      <th>recclass</th>\n",
              "      <th>mass (g)</th>\n",
              "      <th>fall</th>\n",
              "      <th>year</th>\n",
              "      <th>reclat</th>\n",
              "      <th>reclong</th>\n",
              "      <th>GeoLocation</th>\n",
              "    </tr>\n",
              "  </thead>\n",
              "  <tbody>\n",
              "    <tr>\n",
              "      <th>0</th>\n",
              "      <td>Aachen</td>\n",
              "      <td>1</td>\n",
              "      <td>Valid</td>\n",
              "      <td>L5</td>\n",
              "      <td>21.0</td>\n",
              "      <td>Fell</td>\n",
              "      <td>01/01/1880 12:00:00 AM</td>\n",
              "      <td>50.77500</td>\n",
              "      <td>NaN</td>\n",
              "      <td>(50.775, 6.08333)</td>\n",
              "    </tr>\n",
              "    <tr>\n",
              "      <th>1</th>\n",
              "      <td>Aarhus</td>\n",
              "      <td>2</td>\n",
              "      <td>Valid</td>\n",
              "      <td>H6</td>\n",
              "      <td>720.0</td>\n",
              "      <td>Fell</td>\n",
              "      <td>01/01/1951 00:00</td>\n",
              "      <td>56.18333</td>\n",
              "      <td>10.23333</td>\n",
              "      <td>(56.18333, 10.23333)</td>\n",
              "    </tr>\n",
              "    <tr>\n",
              "      <th>2</th>\n",
              "      <td>Abee</td>\n",
              "      <td>6</td>\n",
              "      <td>Valid</td>\n",
              "      <td>EH4</td>\n",
              "      <td>107000.0</td>\n",
              "      <td>Fell</td>\n",
              "      <td>01/01/1952 00:00</td>\n",
              "      <td>54.21667</td>\n",
              "      <td>-113.00000</td>\n",
              "      <td>(54.21667, -113.0)</td>\n",
              "    </tr>\n",
              "    <tr>\n",
              "      <th>3</th>\n",
              "      <td>Acapulco</td>\n",
              "      <td>10</td>\n",
              "      <td>Valid</td>\n",
              "      <td>Acapulcoite</td>\n",
              "      <td>1914.0</td>\n",
              "      <td>Fell</td>\n",
              "      <td>01/01/1976 00:00</td>\n",
              "      <td>16.88333</td>\n",
              "      <td>-99.90000</td>\n",
              "      <td>(16.88333, -99.9)</td>\n",
              "    </tr>\n",
              "    <tr>\n",
              "      <th>4</th>\n",
              "      <td>Achiras</td>\n",
              "      <td>370</td>\n",
              "      <td>Valid</td>\n",
              "      <td>L6</td>\n",
              "      <td>780.0</td>\n",
              "      <td>Fell</td>\n",
              "      <td>01/01/1902 00:00</td>\n",
              "      <td>-33.16667</td>\n",
              "      <td>-64.95000</td>\n",
              "      <td>(-33.16667, -64.95)</td>\n",
              "    </tr>\n",
              "  </tbody>\n",
              "</table>\n",
              "</div>"
            ],
            "text/plain": [
              "       name   id nametype  ...    reclat    reclong           GeoLocation\n",
              "0    Aachen    1    Valid  ...  50.77500        NaN     (50.775, 6.08333)\n",
              "1    Aarhus    2    Valid  ...  56.18333   10.23333  (56.18333, 10.23333)\n",
              "2      Abee    6    Valid  ...  54.21667 -113.00000    (54.21667, -113.0)\n",
              "3  Acapulco   10    Valid  ...  16.88333  -99.90000     (16.88333, -99.9)\n",
              "4   Achiras  370    Valid  ... -33.16667  -64.95000   (-33.16667, -64.95)\n",
              "\n",
              "[5 rows x 10 columns]"
            ]
          },
          "metadata": {
            "tags": []
          },
          "execution_count": 404
        }
      ]
    },
    {
      "cell_type": "code",
      "metadata": {
        "id": "Bisfe1mBnZHR",
        "colab_type": "code",
        "outputId": "2a4183dd-04f7-4b71-de50-69737a019eba",
        "colab": {
          "base_uri": "https://localhost:8080/",
          "height": 275
        }
      },
      "source": [
        "# replace Unkown values with NaN so we can remove it eaisly\n",
        "meteor_landings[\"recclass\"] = meteor_landings[\"recclass\"].replace(\"Unknown\", np.NaN)\n",
        "\n",
        "# how many values aren't known as percentage\n",
        "meteor_landings.isnull().sum().plot(kind='pie', autopct='%1.0f%%')"
      ],
      "execution_count": 405,
      "outputs": [
        {
          "output_type": "execute_result",
          "data": {
            "text/plain": [
              "<matplotlib.axes._subplots.AxesSubplot at 0x7f50dc0dfc88>"
            ]
          },
          "metadata": {
            "tags": []
          },
          "execution_count": 405
        },
        {
          "output_type": "display_data",
          "data": {
            "image/png": "[encoded data removed]",
            "text/plain": [
              "<Figure size 432x288 with 1 Axes>"
            ]
          },
          "metadata": {
            "tags": []
          }
        }
      ]
    },
    {
      "cell_type": "code",
      "metadata": {
        "id": "6q2MNv_g-Oj4",
        "colab_type": "code",
        "outputId": "ff361084-4a48-4030-ca7b-253f34026d8e",
        "colab": {
          "base_uri": "https://localhost:8080/",
          "height": 275
        }
      },
      "source": [
        "threshold = 350 # Anything that occurs less than this will be removed.\n",
        "vc = meteor_landings[\"recclass\"].value_counts()\n",
        "\n",
        "# all the possible labels\n",
        "vc.plot(kind='pie', autopct='%1.0f%%')"
      ],
      "execution_count": 406,
      "outputs": [
        {
          "output_type": "execute_result",
          "data": {
            "text/plain": [
              "<matplotlib.axes._subplots.AxesSubplot at 0x7f50dbf920b8>"
            ]
          },
          "metadata": {
            "tags": []
          },
          "execution_count": 406
        },
        {
          "output_type": "display_data",
          "data": {
            "image/png": "[encoded data removed]",
            "text/plain": [
              "<Figure size 432x288 with 1 Axes>"
            ]
          },
          "metadata": {
            "tags": []
          }
        }
      ]
    },
    {
      "cell_type": "code",
      "metadata": {
        "id": "SJEOoFLsXXfw",
        "colab_type": "code",
        "colab": {
          "base_uri": "https://localhost:8080/",
          "height": 275
        },
        "outputId": "beea4763-9f0b-4eab-faa1-ff68291f0b67"
      },
      "source": [
        "to_remove = vc[vc <= threshold].index\n",
        "meteor_landings[\"recclass\"].replace(to_remove, np.nan, inplace=True)\n",
        "\n",
        "# the top 9 labels\n",
        "meteor_landings[\"recclass\"].value_counts().plot(kind='pie', autopct='%1.0f%%') # top 9"
      ],
      "execution_count": 407,
      "outputs": [
        {
          "output_type": "execute_result",
          "data": {
            "text/plain": [
              "<matplotlib.axes._subplots.AxesSubplot at 0x7f50db009358>"
            ]
          },
          "metadata": {
            "tags": []
          },
          "execution_count": 407
        },
        {
          "output_type": "display_data",
          "data": {
            "image/png": "[encoded data removed]",
            "text/plain": [
              "<Figure size 432x288 with 1 Axes>"
            ]
          },
          "metadata": {
            "tags": []
          }
        }
      ]
    },
    {
      "cell_type": "code",
      "metadata": {
        "id": "x-BNTagBTtz2",
        "colab_type": "code",
        "outputId": "95ceac81-0e2b-4409-b369-cdc91c6155d5",
        "colab": {
          "base_uri": "https://localhost:8080/",
          "height": 275
        }
      },
      "source": [
        "# do the same thing for the imputed variable, replacing rarely used classes with NaN\n",
        "\n",
        "meteor_landings_imputed[\"recclass\"] = meteor_landings_imputed[\"recclass\"].replace(\"Unknown\", np.NaN)\n",
        "threshold = 350 # Anything that occurs less than this will be removed.\n",
        "vc = meteor_landings_imputed[\"recclass\"].value_counts()\n",
        "\n",
        "to_remove = vc[vc <= threshold].index\n",
        "meteor_landings_imputed[\"recclass\"].replace(to_remove, np.nan, inplace=True)\n",
        "\n",
        "print(meteor_landings_imputed[\"recclass\"].value_counts()) # top 9"
      ],
      "execution_count": 408,
      "outputs": [
        {
          "output_type": "stream",
          "text": [
            "L6      8285\n",
            "H5      7142\n",
            "L5      4796\n",
            "H6      4528\n",
            "H4      4211\n",
            "LL5     2766\n",
            "LL6     2043\n",
            "L4      1253\n",
            "H4/5     428\n",
            "CM2      416\n",
            "H3       386\n",
            "L3       365\n",
            "Name: recclass, dtype: int64\n"
          ],
          "name": "stdout"
        }
      ]
    },
    {
      "cell_type": "code",
      "metadata": {
        "id": "-WyQP_WOU2IU",
        "colab_type": "code",
        "outputId": "4140bbc9-c530-4245-e863-ebf398b7fcb2",
        "colab": {
          "base_uri": "https://localhost:8080/",
          "height": 380
        }
      },
      "source": [
        "# remove these nan values from classes\n",
        "\n",
        "meteor_landings_imputed.dropna(inplace=True)\n",
        "meteor_landings_imputed.head()"
      ],
      "execution_count": 409,
      "outputs": [
        {
          "output_type": "execute_result",
          "data": {
            "text/html": [
              "<div>\n",
              "<style scoped>\n",
              "    .dataframe tbody tr th:only-of-type {\n",
              "        vertical-align: middle;\n",
              "    }\n",
              "\n",
              "    .dataframe tbody tr th {\n",
              "        vertical-align: top;\n",
              "    }\n",
              "\n",
              "    .dataframe thead th {\n",
              "        text-align: right;\n",
              "    }\n",
              "</style>\n",
              "<table border=\"1\" class=\"dataframe\">\n",
              "  <thead>\n",
              "    <tr style=\"text-align: right;\">\n",
              "      <th></th>\n",
              "      <th>name</th>\n",
              "      <th>id</th>\n",
              "      <th>nametype</th>\n",
              "      <th>recclass</th>\n",
              "      <th>mass (g)</th>\n",
              "      <th>fall</th>\n",
              "      <th>year</th>\n",
              "      <th>reclat</th>\n",
              "      <th>reclong</th>\n",
              "      <th>GeoLocation</th>\n",
              "    </tr>\n",
              "  </thead>\n",
              "  <tbody>\n",
              "    <tr>\n",
              "      <th>1</th>\n",
              "      <td>Aarhus</td>\n",
              "      <td>2</td>\n",
              "      <td>Valid</td>\n",
              "      <td>H6</td>\n",
              "      <td>720.0</td>\n",
              "      <td>Fell</td>\n",
              "      <td>01/01/1951 00:00</td>\n",
              "      <td>56.18333</td>\n",
              "      <td>10.23333</td>\n",
              "      <td>(56.18333, 10.23333)</td>\n",
              "    </tr>\n",
              "    <tr>\n",
              "      <th>4</th>\n",
              "      <td>Achiras</td>\n",
              "      <td>370</td>\n",
              "      <td>Valid</td>\n",
              "      <td>L6</td>\n",
              "      <td>780.0</td>\n",
              "      <td>Fell</td>\n",
              "      <td>01/01/1902 00:00</td>\n",
              "      <td>-33.16667</td>\n",
              "      <td>-64.95000</td>\n",
              "      <td>(-33.16667, -64.95)</td>\n",
              "    </tr>\n",
              "    <tr>\n",
              "      <th>7</th>\n",
              "      <td>Agen</td>\n",
              "      <td>392</td>\n",
              "      <td>Valid</td>\n",
              "      <td>H5</td>\n",
              "      <td>30000.0</td>\n",
              "      <td>Fell</td>\n",
              "      <td>01/01/1814 12:00:00 AM</td>\n",
              "      <td>44.21667</td>\n",
              "      <td>0.61667</td>\n",
              "      <td>(44.21667, 0.61667)</td>\n",
              "    </tr>\n",
              "    <tr>\n",
              "      <th>8</th>\n",
              "      <td>Aguada</td>\n",
              "      <td>398</td>\n",
              "      <td>Valid</td>\n",
              "      <td>L6</td>\n",
              "      <td>1620.0</td>\n",
              "      <td>Fell</td>\n",
              "      <td>01/01/1930 00:00</td>\n",
              "      <td>-31.60000</td>\n",
              "      <td>-65.23333</td>\n",
              "      <td>(-31.6, -65.23333)</td>\n",
              "    </tr>\n",
              "    <tr>\n",
              "      <th>11</th>\n",
              "      <td>Aïr</td>\n",
              "      <td>424</td>\n",
              "      <td>Valid</td>\n",
              "      <td>L6</td>\n",
              "      <td>24000.0</td>\n",
              "      <td>Fell</td>\n",
              "      <td>01/01/1925 00:00</td>\n",
              "      <td>19.08333</td>\n",
              "      <td>8.38333</td>\n",
              "      <td>(19.08333, 8.38333)</td>\n",
              "    </tr>\n",
              "  </tbody>\n",
              "</table>\n",
              "</div>"
            ],
            "text/plain": [
              "       name   id nametype  ...    reclat   reclong           GeoLocation\n",
              "1    Aarhus    2    Valid  ...  56.18333  10.23333  (56.18333, 10.23333)\n",
              "4   Achiras  370    Valid  ... -33.16667 -64.95000   (-33.16667, -64.95)\n",
              "7      Agen  392    Valid  ...  44.21667   0.61667   (44.21667, 0.61667)\n",
              "8    Aguada  398    Valid  ... -31.60000 -65.23333    (-31.6, -65.23333)\n",
              "11      Aïr  424    Valid  ...  19.08333   8.38333   (19.08333, 8.38333)\n",
              "\n",
              "[5 rows x 10 columns]"
            ]
          },
          "metadata": {
            "tags": []
          },
          "execution_count": 409
        }
      ]
    },
    {
      "cell_type": "markdown",
      "metadata": {
        "id": "i8rJDtKpcflp",
        "colab_type": "text"
      },
      "source": [
        "# Impute Values"
      ]
    },
    {
      "cell_type": "code",
      "metadata": {
        "id": "rRboo7iXFfD6",
        "colab_type": "code",
        "outputId": "9150b4c2-7aaf-4535-8701-b2fadf40c645",
        "colab": {
          "base_uri": "https://localhost:8080/",
          "height": 360
        }
      },
      "source": [
        "\n",
        "\n",
        "from sklearn.experimental import enable_iterative_imputer\n",
        "from sklearn.impute import IterativeImputer\n",
        "imp = IterativeImputer(max_iter=10, random_state=0)\n",
        "\n",
        "temp_imputed = meteor_landings_imputed.copy()\n",
        "\n",
        "temp_imputed.drop('fall', axis=1, inplace=True)\n",
        "temp_imputed.drop('year', axis=1, inplace=True)\n",
        "temp_imputed.drop('name', axis=1, inplace=True)\n",
        "temp_imputed.drop('id', axis=1, inplace=True)\n",
        "temp_imputed.drop('nametype', axis=1, inplace=True)\n",
        "temp_imputed.drop('recclass', axis=1, inplace=True)\n",
        "temp_imputed.drop('GeoLocation', axis=1, inplace=True)\n",
        "\n",
        "imp.fit(temp_imputed)\n",
        "\n",
        "data = np.round(imp.transform(temp_imputed))\n",
        "\n",
        "print(data)\n",
        "\n",
        "meteor_landings_imputed = pd.DataFrame({'recclass': meteor_landings_imputed['recclass'],'mass (g)': data[:, 0], 'reclat': data[:, 1], 'reclong': data[:, 2]})\n",
        "\n",
        "meteor_landings_imputed.head()"
      ],
      "execution_count": 410,
      "outputs": [
        {
          "output_type": "stream",
          "text": [
            "[[ 7.200e+02  5.600e+01  1.000e+01]\n",
            " [ 7.800e+02 -3.300e+01 -6.500e+01]\n",
            " [ 3.000e+04  4.400e+01  1.000e+00]\n",
            " ...\n",
            " [ 1.475e+03  2.900e+01  1.700e+01]\n",
            " [ 3.000e+00  4.900e+01  1.800e+01]\n",
            " [ 2.167e+03  5.000e+01  4.200e+01]]\n"
          ],
          "name": "stdout"
        },
        {
          "output_type": "execute_result",
          "data": {
            "text/html": [
              "<div>\n",
              "<style scoped>\n",
              "    .dataframe tbody tr th:only-of-type {\n",
              "        vertical-align: middle;\n",
              "    }\n",
              "\n",
              "    .dataframe tbody tr th {\n",
              "        vertical-align: top;\n",
              "    }\n",
              "\n",
              "    .dataframe thead th {\n",
              "        text-align: right;\n",
              "    }\n",
              "</style>\n",
              "<table border=\"1\" class=\"dataframe\">\n",
              "  <thead>\n",
              "    <tr style=\"text-align: right;\">\n",
              "      <th></th>\n",
              "      <th>recclass</th>\n",
              "      <th>mass (g)</th>\n",
              "      <th>reclat</th>\n",
              "      <th>reclong</th>\n",
              "    </tr>\n",
              "  </thead>\n",
              "  <tbody>\n",
              "    <tr>\n",
              "      <th>1</th>\n",
              "      <td>H6</td>\n",
              "      <td>720.0</td>\n",
              "      <td>56.0</td>\n",
              "      <td>10.0</td>\n",
              "    </tr>\n",
              "    <tr>\n",
              "      <th>4</th>\n",
              "      <td>L6</td>\n",
              "      <td>780.0</td>\n",
              "      <td>-33.0</td>\n",
              "      <td>-65.0</td>\n",
              "    </tr>\n",
              "    <tr>\n",
              "      <th>7</th>\n",
              "      <td>H5</td>\n",
              "      <td>30000.0</td>\n",
              "      <td>44.0</td>\n",
              "      <td>1.0</td>\n",
              "    </tr>\n",
              "    <tr>\n",
              "      <th>8</th>\n",
              "      <td>L6</td>\n",
              "      <td>1620.0</td>\n",
              "      <td>-32.0</td>\n",
              "      <td>-65.0</td>\n",
              "    </tr>\n",
              "    <tr>\n",
              "      <th>11</th>\n",
              "      <td>L6</td>\n",
              "      <td>24000.0</td>\n",
              "      <td>19.0</td>\n",
              "      <td>8.0</td>\n",
              "    </tr>\n",
              "  </tbody>\n",
              "</table>\n",
              "</div>"
            ],
            "text/plain": [
              "   recclass  mass (g)  reclat  reclong\n",
              "1        H6     720.0    56.0     10.0\n",
              "4        L6     780.0   -33.0    -65.0\n",
              "7        H5   30000.0    44.0      1.0\n",
              "8        L6    1620.0   -32.0    -65.0\n",
              "11       L6   24000.0    19.0      8.0"
            ]
          },
          "metadata": {
            "tags": []
          },
          "execution_count": 410
        }
      ]
    },
    {
      "cell_type": "code",
      "metadata": {
        "id": "RXy8JonyrlsQ",
        "colab_type": "code",
        "outputId": "d67c9b29-4760-4cfd-86df-7816ff353882",
        "colab": {
          "base_uri": "https://localhost:8080/",
          "height": 57
        }
      },
      "source": [
        "print(meteor_landings.shape)\n",
        "# drop rows with missing values\n",
        "meteor_landings.dropna(inplace=True)\n",
        "# summarize the number of rows and columns in the dataset\n",
        "print(meteor_landings.shape)"
      ],
      "execution_count": 411,
      "outputs": [
        {
          "output_type": "stream",
          "text": [
            "(45716, 10)\n",
            "(30907, 10)\n"
          ],
          "name": "stdout"
        }
      ]
    },
    {
      "cell_type": "code",
      "metadata": {
        "id": "Q_iNnatKw5mc",
        "colab_type": "code",
        "outputId": "29210944-6834-4e3e-c0a4-77d2df607b41",
        "colab": {
          "base_uri": "https://localhost:8080/",
          "height": 221
        }
      },
      "source": [
        "meteor_landings.drop('fall', axis=1, inplace=True)\n",
        "meteor_landings.drop('year', axis=1, inplace=True)\n",
        "meteor_landings.drop('name', axis=1, inplace=True)\n",
        "meteor_landings.drop('id', axis=1, inplace=True)\n",
        "meteor_landings.drop('nametype', axis=1, inplace=True)\n",
        "meteor_landings.drop('GeoLocation', axis=1, inplace=True)\n",
        "meteor_landings.head()"
      ],
      "execution_count": 412,
      "outputs": [
        {
          "output_type": "execute_result",
          "data": {
            "text/html": [
              "<div>\n",
              "<style scoped>\n",
              "    .dataframe tbody tr th:only-of-type {\n",
              "        vertical-align: middle;\n",
              "    }\n",
              "\n",
              "    .dataframe tbody tr th {\n",
              "        vertical-align: top;\n",
              "    }\n",
              "\n",
              "    .dataframe thead th {\n",
              "        text-align: right;\n",
              "    }\n",
              "</style>\n",
              "<table border=\"1\" class=\"dataframe\">\n",
              "  <thead>\n",
              "    <tr style=\"text-align: right;\">\n",
              "      <th></th>\n",
              "      <th>recclass</th>\n",
              "      <th>mass (g)</th>\n",
              "      <th>reclat</th>\n",
              "      <th>reclong</th>\n",
              "    </tr>\n",
              "  </thead>\n",
              "  <tbody>\n",
              "    <tr>\n",
              "      <th>1</th>\n",
              "      <td>H6</td>\n",
              "      <td>720.0</td>\n",
              "      <td>56.18333</td>\n",
              "      <td>10.23333</td>\n",
              "    </tr>\n",
              "    <tr>\n",
              "      <th>4</th>\n",
              "      <td>L6</td>\n",
              "      <td>780.0</td>\n",
              "      <td>-33.16667</td>\n",
              "      <td>-64.95000</td>\n",
              "    </tr>\n",
              "    <tr>\n",
              "      <th>7</th>\n",
              "      <td>H5</td>\n",
              "      <td>30000.0</td>\n",
              "      <td>44.21667</td>\n",
              "      <td>0.61667</td>\n",
              "    </tr>\n",
              "    <tr>\n",
              "      <th>8</th>\n",
              "      <td>L6</td>\n",
              "      <td>1620.0</td>\n",
              "      <td>-31.60000</td>\n",
              "      <td>-65.23333</td>\n",
              "    </tr>\n",
              "    <tr>\n",
              "      <th>11</th>\n",
              "      <td>L6</td>\n",
              "      <td>24000.0</td>\n",
              "      <td>19.08333</td>\n",
              "      <td>8.38333</td>\n",
              "    </tr>\n",
              "  </tbody>\n",
              "</table>\n",
              "</div>"
            ],
            "text/plain": [
              "   recclass  mass (g)    reclat   reclong\n",
              "1        H6     720.0  56.18333  10.23333\n",
              "4        L6     780.0 -33.16667 -64.95000\n",
              "7        H5   30000.0  44.21667   0.61667\n",
              "8        L6    1620.0 -31.60000 -65.23333\n",
              "11       L6   24000.0  19.08333   8.38333"
            ]
          },
          "metadata": {
            "tags": []
          },
          "execution_count": 412
        }
      ]
    },
    {
      "cell_type": "markdown",
      "metadata": {
        "id": "mEKez6jfc3Ve",
        "colab_type": "text"
      },
      "source": [
        "# Comparing with a ML Model on both sets of data"
      ]
    },
    {
      "cell_type": "code",
      "metadata": {
        "id": "npY_mKNhrXw1",
        "colab_type": "code",
        "colab": {}
      },
      "source": [
        "from sklearn.discriminant_analysis import LinearDiscriminantAnalysis\n",
        "from sklearn.model_selection import KFold\n",
        "from sklearn.model_selection import cross_val_score"
      ],
      "execution_count": 0,
      "outputs": []
    },
    {
      "cell_type": "code",
      "metadata": {
        "id": "2OyY0Y-dyyhE",
        "colab_type": "code",
        "outputId": "b9b15376-e32c-4bcd-fb08-10bf8e023eb3",
        "colab": {
          "base_uri": "https://localhost:8080/",
          "height": 334
        }
      },
      "source": [
        "\n",
        "features1 = meteor_landings.iloc[:, 1:4].values\n",
        "labels1 = meteor_landings.iloc[:, 0].values\n",
        "\n",
        "print(features1)\n",
        "print(labels1)\n",
        "\n",
        "features2 = meteor_landings_imputed.iloc[:, 1:4].values\n",
        "labels2 = meteor_landings_imputed.iloc[:, 0].values\n",
        "\n",
        "print(features2)\n",
        "print(labels2)"
      ],
      "execution_count": 414,
      "outputs": [
        {
          "output_type": "stream",
          "text": [
            "[[ 7.200000e+02  5.618333e+01  1.023333e+01]\n",
            " [ 7.800000e+02 -3.316667e+01 -6.495000e+01]\n",
            " [ 3.000000e+04  4.421667e+01  6.166700e-01]\n",
            " ...\n",
            " [ 1.475000e+03  2.903700e+01  1.701850e+01]\n",
            " [ 3.300000e+00  4.925000e+01  1.766667e+01]\n",
            " [ 2.167000e+03  4.978917e+01  4.150460e+01]]\n",
            "['H6' 'L6' 'H5' ... 'L6' 'H4' 'L6']\n",
            "[[ 7.200e+02  5.600e+01  1.000e+01]\n",
            " [ 7.800e+02 -3.300e+01 -6.500e+01]\n",
            " [ 3.000e+04  4.400e+01  1.000e+00]\n",
            " ...\n",
            " [ 1.475e+03  2.900e+01  1.700e+01]\n",
            " [ 3.000e+00  4.900e+01  1.800e+01]\n",
            " [ 2.167e+03  5.000e+01  4.200e+01]]\n",
            "['H6' 'L6' 'H5' ... 'L6' 'H4' 'L6']\n"
          ],
          "name": "stdout"
        }
      ]
    },
    {
      "cell_type": "code",
      "metadata": {
        "id": "z6CPTl1Xyh94",
        "colab_type": "code",
        "colab": {}
      },
      "source": [
        "from sklearn.model_selection import train_test_split\n",
        "\n",
        "X1_train, X1_test, y1_train, y1_test = train_test_split(features1, labels1, test_size=0.2, random_state=0)\n",
        "\n",
        "X2_train, X2_test, y2_train, y2_test = train_test_split(features2, labels2, test_size=0.2, random_state=0)"
      ],
      "execution_count": 0,
      "outputs": []
    },
    {
      "cell_type": "code",
      "metadata": {
        "id": "NrXjYMZlzYIw",
        "colab_type": "code",
        "outputId": "735607f8-b4e8-43f8-c834-f0bd5cdc5e57",
        "colab": {
          "base_uri": "https://localhost:8080/",
          "height": 116
        }
      },
      "source": [
        "from sklearn.linear_model import LogisticRegression\n",
        "\n",
        "LR1 = LogisticRegression(random_state=0, solver='lbfgs', multi_class='multinomial').fit(X1_train, y1_train)\n",
        "LR1.predict(X1_test)\n",
        "res1 = round(LR1.score(X1_test,y1_test), 4)\n",
        "\n",
        "LR2 = LogisticRegression(random_state=0, solver='lbfgs', multi_class='multinomial').fit(X2_train, y2_train)\n",
        "LR2.predict(X2_test)\n",
        "res2 = round(LR2.score(X2_test,y2_test), 4)"
      ],
      "execution_count": 416,
      "outputs": [
        {
          "output_type": "stream",
          "text": [
            "/usr/local/lib/python3.6/dist-packages/sklearn/linear_model/logistic.py:947: ConvergenceWarning: lbfgs failed to converge. Increase the number of iterations.\n",
            "  \"of iterations.\", ConvergenceWarning)\n",
            "/usr/local/lib/python3.6/dist-packages/sklearn/linear_model/logistic.py:947: ConvergenceWarning: lbfgs failed to converge. Increase the number of iterations.\n",
            "  \"of iterations.\", ConvergenceWarning)\n"
          ],
          "name": "stderr"
        }
      ]
    },
    {
      "cell_type": "code",
      "metadata": {
        "id": "JU7h6vtkZWia",
        "colab_type": "code",
        "colab": {
          "base_uri": "https://localhost:8080/",
          "height": 281
        },
        "outputId": "5ea8cf08-d19e-43cd-fa44-f6318b39867d"
      },
      "source": [
        "objects = ('not imputed', 'Our Solution (imputed)')\n",
        "y_pos = np.arange(len(objects))\n",
        "performance = [res1, res2]\n",
        "\n",
        "plt.bar(y_pos, performance, align='center', alpha=0.5)\n",
        "plt.xticks(y_pos, objects)\n",
        "plt.ylim([0.2055,0.2072])\n",
        "plt.ylabel('accuracy')\n",
        "plt.title('Performance improvements')\n",
        "\n",
        "plt.show()"
      ],
      "execution_count": 417,
      "outputs": [
        {
          "output_type": "display_data",
          "data": {
            "image/png": "[encoded data removed]",
            "text/plain": [
              "<Figure size 432x288 with 1 Axes>"
            ]
          },
          "metadata": {
            "tags": []
          }
        }
      ]
    },
    {
      "cell_type": "markdown",
      "metadata": {
        "id": "nZLYewuxfxyQ",
        "colab_type": "text"
      },
      "source": [
        "# Conclusion"
      ]
    },
    {
      "cell_type": "markdown",
      "metadata": {
        "id": "RdDoyMRKf0V7",
        "colab_type": "text"
      },
      "source": [
        "Considering:\n",
        "\n",
        "1. we only had 2 hours due to joining a team (which was missing half its members) at the last minute to help them\n",
        "\n",
        "2. the very quickly-made logistic regression model was only about 20% accurate to begin with... so the difference our imputations made were hindered by this.\n",
        "\n",
        "Overall: a successful proof of concept, as we consistently got a slight increase in accuracy."
      ]
    }
  ]
}